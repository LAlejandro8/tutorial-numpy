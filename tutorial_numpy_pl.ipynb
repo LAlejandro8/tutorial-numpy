{
  "nbformat": 4,
  "nbformat_minor": 0,
  "metadata": {
    "colab": {
      "name": "tutorial_numpy_pl.ipynb",
      "provenance": [],
      "collapsed_sections": [],
      "authorship_tag": "ABX9TyOkk+DQo4torHVGFcGuH+VE",
      "include_colab_link": true
    },
    "kernelspec": {
      "name": "python3",
      "display_name": "Python 3"
    }
  },
  "cells": [
    {
      "cell_type": "markdown",
      "metadata": {
        "id": "view-in-github",
        "colab_type": "text"
      },
      "source": [
        "<a href=\"https://colab.research.google.com/github/LAlejandro8/tutorial-numpy/blob/master/tutorial_numpy_pl.ipynb\" target=\"_parent\"><img src=\"https://colab.research.google.com/assets/colab-badge.svg\" alt=\"Open In Colab\"/></a>"
      ]
    },
    {
      "cell_type": "code",
      "metadata": {
        "id": "a_RIqINBKXuH",
        "colab_type": "code",
        "colab": {
          "base_uri": "https://localhost:8080/",
          "height": 170
        },
        "outputId": "c0b8fdec-b872-4b2c-a649-e6a549e32e95"
      },
      "source": [
        "import numpy as np\n",
        "\n",
        "a = np.arange(4)\n",
        "\n",
        "print(\"a = \", a)\n",
        "print(\"a + 5\", a + 5)\n",
        "print(\"a - 5 \", a - 5)\n",
        "print(\"a * 2 \", a * 2)\n",
        "print(\"a / 2\", a / 2)\n",
        "print(\"a // 2\", a // 2)\n",
        "print(\"-a = \", -a)\n",
        "print(\"a ** 2 \", a ** 2)\n",
        "print(\"a % 2 \", a % 2)"
      ],
      "execution_count": 6,
      "outputs": [
        {
          "output_type": "stream",
          "text": [
            "a =  [0 1 2 3]\n",
            "a + 5 [5 6 7 8]\n",
            "a - 5  [-5 -4 -3 -2]\n",
            "a * 2  [0 2 4 6]\n",
            "a / 2 [0.  0.5 1.  1.5]\n",
            "a // 2 [0 0 1 1]\n",
            "-a =  [ 0 -1 -2 -3]\n",
            "a ** 2  [0 1 4 9]\n",
            "a % 2  [0 1 0 1]\n"
          ],
          "name": "stdout"
        }
      ]
    },
    {
      "cell_type": "code",
      "metadata": {
        "id": "Ftu2Sz6SKjjP",
        "colab_type": "code",
        "colab": {
          "base_uri": "https://localhost:8080/",
          "height": 85
        },
        "outputId": "da582008-4cae-4b41-e583-6650e088fb5b"
      },
      "source": [
        "a = np.arange(4)\n",
        "b = np.arange(1, 5)\n",
        "\n",
        "display(np.exp(a))        # Exponencial\n",
        "display(np.log(b))        # Logaritmo natural\n",
        "display(np.sqrt(a))       # Raiz cuadrada\n",
        "display(np.greater(a,b))  # Superior o igual, punto a punto"
      ],
      "execution_count": 4,
      "outputs": [
        {
          "output_type": "display_data",
          "data": {
            "text/plain": [
              "array([ 1.        ,  2.71828183,  7.3890561 , 20.08553692])"
            ]
          },
          "metadata": {
            "tags": []
          }
        },
        {
          "output_type": "display_data",
          "data": {
            "text/plain": [
              "array([0.        , 0.69314718, 1.09861229, 1.38629436])"
            ]
          },
          "metadata": {
            "tags": []
          }
        },
        {
          "output_type": "display_data",
          "data": {
            "text/plain": [
              "array([0.        , 1.        , 1.41421356, 1.73205081])"
            ]
          },
          "metadata": {
            "tags": []
          }
        },
        {
          "output_type": "display_data",
          "data": {
            "text/plain": [
              "array([False, False, False, False])"
            ]
          },
          "metadata": {
            "tags": []
          }
        }
      ]
    },
    {
      "cell_type": "code",
      "metadata": {
        "id": "WzvFpjugKk7m",
        "colab_type": "code",
        "colab": {
          "base_uri": "https://localhost:8080/",
          "height": 34
        },
        "outputId": "979f6bde-efa7-4a60-82dc-679d8edcb820"
      },
      "source": [
        "# %%timeit Toma el tiempo de ejecución en velocidad python\n",
        "%%timeit\n",
        "a = np.arange(1000000)\n",
        "b = np.zeros(1000000)\n",
        "i = 0\n",
        "for el in a:\n",
        "    b[i] = el+el\n",
        "    i+=1"
      ],
      "execution_count": 7,
      "outputs": [
        {
          "output_type": "stream",
          "text": [
            "1 loop, best of 3: 305 ms per loop\n"
          ],
          "name": "stdout"
        }
      ]
    },
    {
      "cell_type": "code",
      "metadata": {
        "id": "q-MF7dpDNwLu",
        "colab_type": "code",
        "colab": {
          "base_uri": "https://localhost:8080/",
          "height": 51
        },
        "outputId": "22a15cef-de2e-47a3-a594-40907c04fa46"
      },
      "source": [
        "# Toma el tiempo de ejecucion en velocidad C de lo mismo que se hizo en el punto anterior\n",
        "%%timeit\n",
        "a+a"
      ],
      "execution_count": 8,
      "outputs": [
        {
          "output_type": "stream",
          "text": [
            "The slowest run took 77.77 times longer than the fastest. This could mean that an intermediate result is being cached.\n",
            "1000000 loops, best of 3: 505 ns per loop\n"
          ],
          "name": "stdout"
        }
      ]
    },
    {
      "cell_type": "markdown",
      "metadata": {
        "id": "7ROfXon0OLIy",
        "colab_type": "text"
      },
      "source": [
        "**Estadística y aletoriedad**"
      ]
    },
    {
      "cell_type": "code",
      "metadata": {
        "id": "V7p9CfR1OJpX",
        "colab_type": "code",
        "colab": {
          "base_uri": "https://localhost:8080/",
          "height": 51
        },
        "outputId": "8aba2286-1c42-41ac-86b6-951186f663b0"
      },
      "source": [
        "# Estadística\n",
        "a = np.arange(10)\n",
        "\n",
        "display(np.mean(a))   # Promedio\n",
        "display(np.median(a)) # Mediana"
      ],
      "execution_count": 9,
      "outputs": [
        {
          "output_type": "display_data",
          "data": {
            "text/plain": [
              "4.5"
            ]
          },
          "metadata": {
            "tags": []
          }
        },
        {
          "output_type": "display_data",
          "data": {
            "text/plain": [
              "4.5"
            ]
          },
          "metadata": {
            "tags": []
          }
        }
      ]
    },
    {
      "cell_type": "code",
      "metadata": {
        "id": "KhlApVAKOn9l",
        "colab_type": "code",
        "colab": {
          "base_uri": "https://localhost:8080/",
          "height": 34
        },
        "outputId": "ffd2e15a-ee47-4e98-be3a-1313c59e77a3"
      },
      "source": [
        "np.percentile(a,10) # Percentil, en este caso queremos el percentil No. 10"
      ],
      "execution_count": 10,
      "outputs": [
        {
          "output_type": "execute_result",
          "data": {
            "text/plain": [
              "0.9"
            ]
          },
          "metadata": {
            "tags": []
          },
          "execution_count": 10
        }
      ]
    },
    {
      "cell_type": "code",
      "metadata": {
        "id": "tyjMqQzdOwfl",
        "colab_type": "code",
        "colab": {
          "base_uri": "https://localhost:8080/",
          "height": 51
        },
        "outputId": "4b92874d-99c1-4490-f04c-379eb2dded40"
      },
      "source": [
        "# Aletoriedad\n",
        "\n",
        "np.random.random(10)"
      ],
      "execution_count": 13,
      "outputs": [
        {
          "output_type": "execute_result",
          "data": {
            "text/plain": [
              "array([0.11524332, 0.91661411, 0.2478343 , 0.21472465, 0.35371558,\n",
              "       0.57701151, 0.89292217, 0.18201665, 0.38216701, 0.42140385])"
            ]
          },
          "metadata": {
            "tags": []
          },
          "execution_count": 13
        }
      ]
    }
  ]
}