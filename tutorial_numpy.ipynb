{
  "nbformat": 4,
  "nbformat_minor": 0,
  "metadata": {
    "colab": {
      "name": "tutorial_numpy.ipynb",
      "provenance": [],
      "collapsed_sections": [],
      "authorship_tag": "ABX9TyP+yPTQvacKcMTNXXgiAXnH",
      "include_colab_link": true
    },
    "kernelspec": {
      "name": "python3",
      "display_name": "Python 3"
    }
  },
  "cells": [
    {
      "cell_type": "markdown",
      "metadata": {
        "id": "view-in-github",
        "colab_type": "text"
      },
      "source": [
        "<a href=\"https://colab.research.google.com/github/LAlejandro8/tutorial-numpy/blob/master/tutorial_numpy.ipynb\" target=\"_parent\"><img src=\"https://colab.research.google.com/assets/colab-badge.svg\" alt=\"Open In Colab\"/></a>"
      ]
    },
    {
      "cell_type": "markdown",
      "metadata": {
        "id": "UqjzAEeFi0Oo",
        "colab_type": "text"
      },
      "source": [
        "**Numpy**\n",
        "\n",
        "**Objetivo:** Aprender a crear y manipular matrices utilizando la librería Numpy de Python.\n",
        "\n",
        "Numpy es una librería para realizar cálculo **num**érico en **py**thon. La usaremos principalmente porque nos permite crear y modificar matrices, y hacer operaciones sobre ellas con facilidad.\n",
        "\n",
        "Para comenzar a usar numpy, debemos importar la librería. En este caso la vamos a importar, y darle un sobrenombre al mismo tiempo, np, para que el código sea más legible"
      ]
    },
    {
      "cell_type": "code",
      "metadata": {
        "id": "pyMiTMFWiu6w",
        "colab_type": "code",
        "colab": {}
      },
      "source": [
        "# importamos la librería numpy, y le damos como nombre np dentro del programa\n",
        "import numpy as np"
      ],
      "execution_count": 0,
      "outputs": []
    },
    {
      "cell_type": "markdown",
      "metadata": {
        "id": "5gjm_X0qjWgz",
        "colab_type": "text"
      },
      "source": [
        "Ahora que tenemos la librería, empecemos creando un vector de 5 elementos.\n",
        "\n",
        "La manera más común de crear una un vector o matriz ya inicializada es con la función **np.array**, que toma una lista (o lista de listas) como parámetro y devuelve una matriz de numpy."
      ]
    },
    {
      "cell_type": "code",
      "metadata": {
        "id": "AoBIzYP_jcPn",
        "colab_type": "code",
        "colab": {
          "base_uri": "https://localhost:8080/",
          "height": 34
        },
        "outputId": "9b8dfe47-1bf6-4bdf-e0ac-c5102d48526b"
      },
      "source": [
        "lista=[25,12,15,66,12.5]\n",
        "vector=np.array(lista)\n",
        "print(vector)"
      ],
      "execution_count": 2,
      "outputs": [
        {
          "output_type": "stream",
          "text": [
            "[25.  12.  15.  66.  12.5]\n"
          ],
          "name": "stdout"
        }
      ]
    },
    {
      "cell_type": "markdown",
      "metadata": {
        "id": "0OTqo5vWjkAM",
        "colab_type": "text"
      },
      "source": [
        "¿Cuál es la diferencia entre vector y lista? Que vector, al ser un arreglo de numpy, nos permite hacer varias operaciones matemáticas de forma muy simple."
      ]
    },
    {
      "cell_type": "code",
      "metadata": {
        "id": "oU2TTZNSjiLq",
        "colab_type": "code",
        "colab": {
          "base_uri": "https://localhost:8080/",
          "height": 255
        },
        "outputId": "3ab8a43d-1d41-4547-f33e-d63fecc50870"
      },
      "source": [
        "print(\"- vector original\")\n",
        "print(vector)\n",
        "\n",
        "print(\"- sumarle 1 a cada elemento del vector:\")\n",
        "print(vector+1)\n",
        "print(\"- multiplicar por 5 cada elemento del vector:\")\n",
        "print(vector*5)\n",
        "\n",
        "print(\"- suma de los elementos:\")\n",
        "print(np.sum(vector))\n",
        "\n",
        "print(\"- promedio (media) de los elementos:\")\n",
        "print(np.mean(vector)) # \n",
        "\n",
        "print(\"- el vector sumado a si mismo:\")\n",
        "print(vector+vector)\n",
        "print(\"- suma de vectores vector1 y vector2 (mismo tamaño):\")\n",
        "vector2=np.array([11,55,1.2,7.4,-8])\n",
        "print(vector+vector2)"
      ],
      "execution_count": 3,
      "outputs": [
        {
          "output_type": "stream",
          "text": [
            "- vector original\n",
            "[25.  12.  15.  66.  12.5]\n",
            "- sumarle 1 a cada elemento del vector:\n",
            "[26.  13.  16.  67.  13.5]\n",
            "- multiplicar por 5 cada elemento del vector:\n",
            "[125.   60.   75.  330.   62.5]\n",
            "- suma de los elementos:\n",
            "130.5\n",
            "- promedio (media) de los elementos:\n",
            "26.1\n",
            "- el vector sumado a si mismo:\n",
            "[ 50.  24.  30. 132.  25.]\n",
            "- suma de vectores vector1 y vector2 (mismo tamaño):\n",
            "[36.  67.  16.2 73.4  4.5]\n"
          ],
          "name": "stdout"
        }
      ]
    },
    {
      "cell_type": "markdown",
      "metadata": {
        "id": "FTgtXioakPYj",
        "colab_type": "text"
      },
      "source": [
        "**Índices y slices (rodajas) de vectores**\n",
        "\n",
        "Así como con las listas, se utilizan los corchetes ([ ]) para acceder a sus elementos, y se pueden tomar slices o rebanadas del arreglo utilizando:"
      ]
    },
    {
      "cell_type": "code",
      "metadata": {
        "id": "VvYYxiISkYrE",
        "colab_type": "code",
        "colab": {
          "base_uri": "https://localhost:8080/",
          "height": 102
        },
        "outputId": "717e8adf-f4b7-4f8a-8a1b-ff8e84b58193"
      },
      "source": [
        "print(vector[3])\n",
        "print(vector[1:4])\n",
        "print(vector[1:])\n",
        "print(vector[:4])\n",
        "print(vector[:])"
      ],
      "execution_count": 4,
      "outputs": [
        {
          "output_type": "stream",
          "text": [
            "66.0\n",
            "[12. 15. 66.]\n",
            "[12.  15.  66.  12.5]\n",
            "[25. 12. 15. 66.]\n",
            "[25.  12.  15.  66.  12.5]\n"
          ],
          "name": "stdout"
        }
      ]
    },
    {
      "cell_type": "markdown",
      "metadata": {
        "id": "8mW_Pugvkb70",
        "colab_type": "text"
      },
      "source": [
        "**Creación de vectores con valor 0 o 1**\n",
        "\n",
        "Es muy común crear un vector con valores 0 o 1. Por ejemplo, cuando se utiliza un vector de contadores, donde cada contador comienza en 0.\n",
        "\n",
        "Para ello, utilizamos las funciones np.zeros y np.ones, respectivamente. Cada una toma como parámetro la cantidad de elementos del vector a crear."
      ]
    },
    {
      "cell_type": "code",
      "metadata": {
        "id": "-uy3m8DWkhGS",
        "colab_type": "code",
        "colab": {
          "base_uri": "https://localhost:8080/",
          "height": 153
        },
        "outputId": "ce263eb6-bcfd-4d9d-e08d-0bdd03c5d1c9"
      },
      "source": [
        "print(\"- Vector de ceros:\")\n",
        "vector_ceros=np.zeros(5)\n",
        "print(vector_ceros)\n",
        "\n",
        "print(\"- Vector de unos:\")\n",
        "vector_unos=np.ones(5)\n",
        "print(vector_unos)\n",
        "\n",
        "\n",
        "#Combinando este tipo de creaciones con las operaciones aritméticas,\n",
        "#podemos hacer varias inicializaciones muy rápidamente\n",
        "# Por ejemplo, para crear un vector cuyos valores iniciales son todos 2.\n",
        "\n",
        "print(\"- Vector con todos los elementos con valor 2:\")\n",
        "vector_dos=np.zeros(5)+2\n",
        "print(vector_dos)\n",
        "\n",
        "print(\"- Vector con todos los elementos con valor 2 (otra forma):\")\n",
        "vector_dos_otro=np.ones((5))*2\n",
        "print(vector_dos_otro)"
      ],
      "execution_count": 5,
      "outputs": [
        {
          "output_type": "stream",
          "text": [
            "- Vector de ceros:\n",
            "[0. 0. 0. 0. 0.]\n",
            "- Vector de unos:\n",
            "[1. 1. 1. 1. 1.]\n",
            "- Vector con todos los elementos con valor 2:\n",
            "[2. 2. 2. 2. 2.]\n",
            "- Vector con todos los elementos con valor 2 (otra forma):\n",
            "[2. 2. 2. 2. 2.]\n"
          ],
          "name": "stdout"
        }
      ]
    },
    {
      "cell_type": "markdown",
      "metadata": {
        "id": "AhjEK86lklO0",
        "colab_type": "text"
      },
      "source": [
        "**Matrices**\n",
        "\n",
        "Los vectores son arreglos de una sola dimensión. Las matrices son arreglos de dos dimensiones; generalmente a la primera dimensión se la llama la de las filas, mientras que a la otra se la llama la de las columnas.\n",
        "\n",
        "Por ende, para crearlas con np.array, necesitamos no una lista de valores, sino una lista de valores por cada fila, o sea, una lista de listas.\n",
        "\n",
        "Del mismo modo, para crearlas con np.zeros o np.ones, vamos a necesitar una tupla con dos elementos, uno por cada dimensión."
      ]
    },
    {
      "cell_type": "code",
      "metadata": {
        "id": "tevrL71Ikn1K",
        "colab_type": "code",
        "colab": {
          "base_uri": "https://localhost:8080/",
          "height": 272
        },
        "outputId": "0365b9a8-a50f-4ac4-f332-47a3fcc530c0"
      },
      "source": [
        "print(\"- Matriz creada con una lista de listas:\")\n",
        "lista_de_listas=[ [1  ,-4], \n",
        "                  [12 , 3], \n",
        "                  [7.2, 5]]\n",
        "matriz = np.array(lista_de_listas)\n",
        "print(matriz)\n",
        "\n",
        "\n",
        "print(\"- Matriz creada con np.zeros:\")\n",
        "dimensiones=(2,3)\n",
        "matriz_ceros = np.zeros(dimensiones)\n",
        "print(matriz_ceros)\n",
        "\n",
        "\n",
        "print(\"- Matriz creada con np.ones:\")\n",
        "dimensiones=(3,2)\n",
        "matriz_unos = np.ones(dimensiones)\n",
        "print(matriz_unos)\n",
        "\n",
        "#también podemos usar np.copy para copiar una matriz \n",
        "print(\"- Copia de la matriz creada con np.ones:\")\n",
        "matriz_unos_copia=np.copy(matriz_unos)\n",
        "print(matriz_unos_copia)"
      ],
      "execution_count": 6,
      "outputs": [
        {
          "output_type": "stream",
          "text": [
            "- Matriz creada con una lista de listas:\n",
            "[[ 1.  -4. ]\n",
            " [12.   3. ]\n",
            " [ 7.2  5. ]]\n",
            "- Matriz creada con np.zeros:\n",
            "[[0. 0. 0.]\n",
            " [0. 0. 0.]]\n",
            "- Matriz creada con np.ones:\n",
            "[[1. 1.]\n",
            " [1. 1.]\n",
            " [1. 1.]]\n",
            "- Copia de la matriz creada con np.ones:\n",
            "[[1. 1.]\n",
            " [1. 1.]\n",
            " [1. 1.]]\n"
          ],
          "name": "stdout"
        }
      ]
    },
    {
      "cell_type": "code",
      "metadata": {
        "id": "kTaPJuK7kvcE",
        "colab_type": "code",
        "colab": {
          "base_uri": "https://localhost:8080/",
          "height": 34
        },
        "outputId": "13146ae1-2688-4e2c-ab5d-f211ae943a30"
      },
      "source": [
        "# Ejercicio\n",
        "# Crear una matriz de 4x9, que esté inicializada con el valor 0.5\n",
        "\n",
        "matriz=0 #IMPLEMENTAR\n",
        "\n",
        "print(matriz)"
      ],
      "execution_count": 7,
      "outputs": [
        {
          "output_type": "stream",
          "text": [
            "0\n"
          ],
          "name": "stdout"
        }
      ]
    },
    {
      "cell_type": "markdown",
      "metadata": {
        "id": "VHgTRoh1kyGi",
        "colab_type": "text"
      },
      "source": [
        "**Accediendo a las matrices**\n",
        "\n",
        "También podemos usar slices para acceder a partes de las matrices. Las matrices tienen dos dimensiones, así que ahora tenemos que usar dos indices o slices para seleccionar partes."
      ]
    },
    {
      "cell_type": "code",
      "metadata": {
        "id": "GRfkfQWLk29E",
        "colab_type": "code",
        "colab": {
          "base_uri": "https://localhost:8080/",
          "height": 238
        },
        "outputId": "a4a0ab87-6872-4d5d-8677-00cc337c0587"
      },
      "source": [
        "lista_de_listas=[ [1  ,-4], \n",
        "                  [12 , 3], \n",
        "                  [7.2, 5]]\n",
        "a = np.array(lista_de_listas)\n",
        "\n",
        "print(\"Elementos individuales\")\n",
        "print(a[0,1])\n",
        "print(a[2,1])\n",
        "\n",
        "print(\"Vector de elementos de la fila 1\")\n",
        "print(a[1,:])\n",
        "\n",
        "print(\"Vector de elementos de la columna 0\")\n",
        "print(a[:,0])\n",
        "\n",
        "print(\"Submatriz de 2x2 con las primeras dos filas\")\n",
        "print(a[0:2,:])\n",
        "\n",
        "print(\"Submatriz de 2x2 con las ultimas dos filas\")\n",
        "print(a[1:3,:])"
      ],
      "execution_count": 8,
      "outputs": [
        {
          "output_type": "stream",
          "text": [
            "Elementos individuales\n",
            "-4.0\n",
            "5.0\n",
            "Vector de elementos de la fila 1\n",
            "[12.  3.]\n",
            "Vector de elementos de la columna 0\n",
            "[ 1.  12.   7.2]\n",
            "Submatriz de 2x2 con las primeras dos filas\n",
            "[[ 1. -4.]\n",
            " [12.  3.]]\n",
            "Submatriz de 2x2 con las ultimas dos filas\n",
            "[[12.   3. ]\n",
            " [ 7.2  5. ]]\n"
          ],
          "name": "stdout"
        }
      ]
    },
    {
      "cell_type": "markdown",
      "metadata": {
        "id": "NVU75dm2k7p9",
        "colab_type": "text"
      },
      "source": [
        "**Modificando matrices**\n",
        "\n",
        "También podemos usar los slices para modificar matrices. La única diferencia es que ahora los usaremos para seleccionar que parte de la matriz vamos a cambiar."
      ]
    },
    {
      "cell_type": "code",
      "metadata": {
        "id": "cVM7foY6k_eZ",
        "colab_type": "code",
        "colab": {
          "base_uri": "https://localhost:8080/",
          "height": 357
        },
        "outputId": "fbcf4542-d589-4278-ffb4-fb471f8ac715"
      },
      "source": [
        "lista_de_listas=[ [1,-4], \n",
        "                  [12,3], \n",
        "                  [7, 5.0]]\n",
        "a = np.array(lista_de_listas)\n",
        "\n",
        "print(\"- Matriz original:\")\n",
        "print(a)\n",
        "\n",
        "print(\"- Le asignamos el valor 4 a los elementos de la columna 0:\")\n",
        "a[:,0]=4\n",
        "print(a)\n",
        "\n",
        "\n",
        "print(\"- Dividimos por 3 la columna 1:\")\n",
        "a[:,1]=a[:,1]/3.0\n",
        "print(a)\n",
        "\n",
        "print(\"- Multiplicamos por 5 la fila 1:\")\n",
        "a[1,:]=a[1,:]*5\n",
        "print(a)\n",
        "\n",
        "print(\"- Le sumamos 1 a toda la matriz:\")\n",
        "a=a+1\n",
        "print(a)"
      ],
      "execution_count": 9,
      "outputs": [
        {
          "output_type": "stream",
          "text": [
            "- Matriz original:\n",
            "[[ 1. -4.]\n",
            " [12.  3.]\n",
            " [ 7.  5.]]\n",
            "- Le asignamos el valor 4 a los elementos de la columna 0:\n",
            "[[ 4. -4.]\n",
            " [ 4.  3.]\n",
            " [ 4.  5.]]\n",
            "- Dividimos por 3 la columna 1:\n",
            "[[ 4.         -1.33333333]\n",
            " [ 4.          1.        ]\n",
            " [ 4.          1.66666667]]\n",
            "- Multiplicamos por 5 la fila 1:\n",
            "[[ 4.         -1.33333333]\n",
            " [20.          5.        ]\n",
            " [ 4.          1.66666667]]\n",
            "- Le sumamos 1 a toda la matriz:\n",
            "[[ 5.         -0.33333333]\n",
            " [21.          6.        ]\n",
            " [ 5.          2.66666667]]\n"
          ],
          "name": "stdout"
        }
      ]
    },
    {
      "cell_type": "code",
      "metadata": {
        "id": "c199K7JVlDtg",
        "colab_type": "code",
        "colab": {}
      },
      "source": [
        "#Ejercicios\n",
        "\n",
        "lista_de_listas=[ [-44,12], \n",
        "                  [12.0,51], \n",
        "                  [1300, -5.0]]\n",
        "a = np.array(lista_de_listas)\n",
        "\n",
        "print(\"Matriz original\")\n",
        "print(a)\n",
        "\n",
        "\n",
        "# Restarle 5 a la fila 2 de la matriz\n",
        "#IMPLEMENTAR\n",
        "print(a)\n",
        "\n",
        "# Multiplicar por 2 toda la matriz\n",
        "#IMPLEMENTAR\n",
        "print(a)\n",
        "\n",
        "# Dividir por -5 las dos primeras filas de la matriz\n",
        "#IMPLEMENTAR\n",
        "print(a)\n",
        "\n",
        "\n",
        "#Imprimir la ultima fila de la matriz\n",
        "ultima_fila=0 # IMPLEMENTAR\n",
        "print(ultima_fila)"
      ],
      "execution_count": 0,
      "outputs": []
    },
    {
      "cell_type": "code",
      "metadata": {
        "id": "bCYQzbcglHE_",
        "colab_type": "code",
        "colab": {}
      },
      "source": [
        "# Más ejercicios\n",
        "\n",
        "# Calcular la suma de los elementos de a utilizando dos fors anidados\n",
        "suma = 0\n",
        "#IMPLEMENTAR\n",
        "print(suma)\n",
        "\n",
        "# Calcular la suma de los elementos de a utilizando np.sum\n",
        "#IMPLEMENTAR\n",
        "\n",
        "# Calcular el promedio de los elementos de las primeras dos filas de a utilizando dos fors anidados\n",
        "promedio=0\n",
        "#IMPLEMENTAR\n",
        "print(promedio)\n",
        "\n",
        "# Calcular el promedio de los elementos de las primeras dos filas de utilizando slices y np.mean\n",
        "#IMPLEMENTAR"
      ],
      "execution_count": 0,
      "outputs": []
    },
    {
      "cell_type": "code",
      "metadata": {
        "id": "XsN20gvXlJfF",
        "colab_type": "code",
        "colab": {}
      },
      "source": [
        "# Generar una matriz de 7 por 9. Las primeras 3 columnas de la matriz tienen que tener el valor 0. \n",
        "# La cuarta columna debe tener el valor 0.5, excepto por el último valor de esa columna, que tiene que ser 0.7.\n",
        "# Las otras tres columnas deben tener el valor 1.\n",
        "\n",
        "# Luego imprimir la matriz\n",
        "# Imprimir también el promedio de la ultima fila.\n",
        "\n",
        "#IMPLEMENTAR"
      ],
      "execution_count": 0,
      "outputs": []
    },
    {
      "cell_type": "code",
      "metadata": {
        "id": "aiisq3folNjy",
        "colab_type": "code",
        "colab": {
          "base_uri": "https://localhost:8080/",
          "height": 102
        },
        "outputId": "00f6f64d-3c5a-45cf-f1b4-1f0eaa30935a"
      },
      "source": [
        "#La siguiente linea crea una matriz aleatoria de 5 por 5 con valores entre 0 y 1\n",
        "matriz_aleatoria=np.random.rand(5,5) \n",
        "print(matriz_aleatoria)\n",
        "\n",
        "#Imprimir las posiciones (Fila y columna) de los elementos de la matriz que son mayores que 0.5\n",
        "\n",
        "#IMPLEMENTAR"
      ],
      "execution_count": 10,
      "outputs": [
        {
          "output_type": "stream",
          "text": [
            "[[0.70213745 0.88988507 0.40147083 0.42869958 0.4992081 ]\n",
            " [0.66771589 0.92865107 0.61549089 0.17403705 0.96633924]\n",
            " [0.77133742 0.20516224 0.93007693 0.33475311 0.045338  ]\n",
            " [0.28394729 0.61595522 0.38414365 0.36691436 0.36076048]\n",
            " [0.20237133 0.42919757 0.46525504 0.85480982 0.00170005]]\n"
          ],
          "name": "stdout"
        }
      ]
    }
  ]
}